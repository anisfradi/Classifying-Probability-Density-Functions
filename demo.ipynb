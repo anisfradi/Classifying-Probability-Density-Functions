{
 "cells": [
  {
   "cell_type": "markdown",
   "metadata": {},
   "source": [
    "# import librairies"
   ]
  },
  {
   "cell_type": "code",
   "execution_count": null,
   "metadata": {},
   "outputs": [],
   "source": [
    "import numpy as np\n",
    "import scipy.io as sio\n",
    "from scipy.stats import beta\n",
    "import matplotlib.pyplot as plt\n",
    "import seaborn as sns"
   ]
  },
  {
   "cell_type": "markdown",
   "metadata": {},
   "source": [
    "# construct two classes of probability density functions (PDFs) from beta distributions"
   ]
  },
  {
   "cell_type": "code",
   "execution_count": null,
   "metadata": {},
   "outputs": [],
   "source": [
    "a1, b1 = 2, 2 # parameters of class 1 \n",
    "a2, b2 = 1.8, 2 # parameters of class 2"
   ]
  },
  {
   "cell_type": "markdown",
   "metadata": {},
   "source": [
    "# define inputs (time instances)"
   ]
  },
  {
   "cell_type": "code",
   "execution_count": null,
   "metadata": {},
   "outputs": [],
   "source": [
    "d=100 # fix the number of points per PDF\n",
    "t = np.linspace(0,1, d) "
   ]
  },
  {
   "cell_type": "markdown",
   "metadata": {},
   "source": [
    "# simulate PDFs"
   ]
  },
  {
   "cell_type": "code",
   "execution_count": null,
   "metadata": {},
   "outputs": [],
   "source": [
    "Nsimulations=500 # fix the number of observations per class\n",
    "p1=np.zeros([Nsimulations,d]) # initialize the first class\n",
    "p2=np.zeros([Nsimulations,d]) # initialize the second class\n",
    "for i in range(Nsimulations):\n",
    "    p1[i,:]=beta.pdf(t, a1+np.random.uniform(-0.2,0.2), b1) # PDFs of the first class\n",
    "    p2[i,:]=beta.pdf(t, a2+np.random.uniform(-0.2,0.2), b2) # PDFs of the second class"
   ]
  },
  {
   "cell_type": "markdown",
   "metadata": {},
   "source": [
    "# plot some examples of PDFs"
   ]
  },
  {
   "cell_type": "code",
   "execution_count": null,
   "metadata": {},
   "outputs": [],
   "source": [
    "sns.set_style(\"whitegrid\")\n",
    "plt.rcParams.update({'font.size': 25})\n",
    "plt.rcParams.update({'legend.fontsize': 25})\n",
    "plt.rcParams['font.weight'] = 'bold'\n",
    "\n",
    "fig = plt.figure(figsize=(20, 10))\n",
    "ax = fig.add_subplot(111)\n",
    "\n",
    "for j in range(50):\n",
    "    plt.plot(t,p1[j,:],color='b',label=\"Class 1\")\n",
    "    plt.plot(t,p2[j,:],color='r',label=\"Class 2\")\n",
    "    \n",
    "ax.legend(['Class 1', 'Class 2'], loc='best')\n",
    "\n",
    "plt.show()"
   ]
  },
  {
   "cell_type": "markdown",
   "metadata": {},
   "source": [
    "# find the corresponding square-root density functions (SRDFs) "
   ]
  },
  {
   "cell_type": "code",
   "execution_count": null,
   "metadata": {},
   "outputs": [],
   "source": [
    "psi1=np.sqrt(p1); psi2=np.sqrt(p2)"
   ]
  },
  {
   "cell_type": "markdown",
   "metadata": {},
   "source": [
    "# fix the truncation order"
   ]
  },
  {
   "cell_type": "code",
   "execution_count": null,
   "metadata": {},
   "outputs": [],
   "source": [
    "m=50 "
   ]
  },
  {
   "cell_type": "markdown",
   "metadata": {},
   "source": [
    "# define the basis function in [0,1]"
   ]
  },
  {
   "cell_type": "code",
   "execution_count": null,
   "metadata": {},
   "outputs": [],
   "source": [
    "def basis(m,x):\n",
    "    d=t.shape[0]\n",
    "    Phi=np.zeros([m,d])\n",
    "    for i in range(m):\n",
    "        for j in range(d):\n",
    "            Phi[i,j]=np.sqrt(2)*np.sin(np.pi*(i+1)*x[j])\n",
    "    return Phi "
   ]
  },
  {
   "cell_type": "markdown",
   "metadata": {},
   "source": [
    "# evaluate the basis function for all time instances t"
   ]
  },
  {
   "cell_type": "code",
   "execution_count": null,
   "metadata": {},
   "outputs": [],
   "source": [
    "Phi=basis(m,t)"
   ]
  },
  {
   "cell_type": "markdown",
   "metadata": {},
   "source": [
    "# get spherical coefficients of size m and belonging to $S^{m-1}$"
   ]
  },
  {
   "cell_type": "code",
   "execution_count": null,
   "metadata": {},
   "outputs": [],
   "source": [
    "X1=np.zeros([p1.shape[0],m]); X2=np.zeros([p2.shape[0],m])\n",
    "for i in range(p1.shape[0]):\n",
    "    for j in range(m):\n",
    "        X1[i,j]=-np.trapz(t,psi1[i,:]*Phi[j,:])\n",
    "\n",
    "for i in range(p2.shape[0]):\n",
    "    for j in range(m):\n",
    "        X2[i,j]=-np.trapz(t,psi2[i,:]*Phi[j,:])"
   ]
  },
  {
   "cell_type": "markdown",
   "metadata": {},
   "source": [
    "# concatenate all spherical coefficients together"
   ]
  },
  {
   "cell_type": "code",
   "execution_count": null,
   "metadata": {},
   "outputs": [],
   "source": [
    "X=np.concatenate((X1,X2)) "
   ]
  },
  {
   "cell_type": "markdown",
   "metadata": {},
   "source": [
    "# compute the Fréchet mean estimate of spherical coefficients"
   ]
  },
  {
   "cell_type": "code",
   "execution_count": null,
   "metadata": {},
   "outputs": [],
   "source": [
    "from geomstats.learning.frechet_mean import FrechetMean\n",
    "from geomstats.geometry.hypersphere import Hypersphere\n",
    "sphere = Hypersphere(dim=m-1)   \n",
    "Fmean = FrechetMean(metric=sphere.metric)\n",
    "Fmean.fit(X)\n",
    "estimate_mean=Fmean.estimate_"
   ]
  },
  {
   "cell_type": "markdown",
   "metadata": {},
   "source": [
    "# map the spherical coefficients to the tangent space at the Fréchet mean"
   ]
  },
  {
   "cell_type": "code",
   "execution_count": null,
   "metadata": {},
   "outputs": [],
   "source": [
    "n=p1.shape[0]+p2.shape[0];\n",
    "x=np.zeros([n,m]);  \n",
    "for i in range(n):\n",
    "    x[i,:]=X[i,:]/np.inner(np.array(X[i,:]),estimate_mean.T)\n",
    "x.shape # check dimensions"
   ]
  },
  {
   "cell_type": "markdown",
   "metadata": {},
   "source": [
    "# construct the binary vector of outputs 0/1 "
   ]
  },
  {
   "cell_type": "code",
   "execution_count": null,
   "metadata": {},
   "outputs": [],
   "source": [
    "y = np.vstack((np.ones((p1.shape[0], 1)),np.zeros((p2.shape[0], 1))))\n",
    "y.shape # check dimension"
   ]
  },
  {
   "cell_type": "markdown",
   "metadata": {},
   "source": [
    "# import the sklearn library "
   ]
  },
  {
   "cell_type": "code",
   "execution_count": null,
   "metadata": {},
   "outputs": [],
   "source": [
    "import sklearn as sk\n",
    "from sklearn.metrics import accuracy_score, log_loss, roc_auc_score\n",
    "from sklearn.gaussian_process import GaussianProcessClassifier\n",
    "from sklearn.gaussian_process.kernels import RBF"
   ]
  },
  {
   "cell_type": "markdown",
   "metadata": {},
   "source": [
    "# results of the GP classifier applied to projected coefficients "
   ]
  },
  {
   "cell_type": "code",
   "execution_count": null,
   "metadata": {},
   "outputs": [],
   "source": [
    "import random\n",
    "\n",
    "gp_opt = GaussianProcessClassifier(kernel=1.0 * RBF(length_scale=1.0)) # fix the class of kernel \n",
    "\n",
    "ind=random.sample(range(0, n), int(3*n/4))\n",
    "index=np.isin(range(0, n), ind) # random split with 75% for training and 25% for test\n",
    "\n",
    "xtrain=x[index] # training input \n",
    "ytrain=y[index] # training output\n",
    "xtest=x[~index] # test input\n",
    "ytest=y[~index] # test output\n",
    "    \n",
    "gp_opt.fit(xtrain, ytrain) # learn the GP classifier\n",
    "\n",
    "NMLL=-gp_opt.log_marginal_likelihood(gp_opt.kernel_.theta) # negative marginal log-likelihood\n",
    "\n",
    "ACC=accuracy_score(ytest, gp_opt.predict(xtest)) # accuracy score\n",
    "\n",
    "AUC=roc_auc_score(ytest, gp_opt.predict_proba(xtest)[:, 1]) # AUC criteria\n",
    "        \n",
    "LOSS=log_loss(ytest, gp_opt.predict_proba(xtest)[:, 1]) # loss measure"
   ]
  },
  {
   "cell_type": "markdown",
   "metadata": {},
   "source": [
    "# display the optimal kernel parameters"
   ]
  },
  {
   "cell_type": "code",
   "execution_count": null,
   "metadata": {},
   "outputs": [],
   "source": [
    "print(gp_opt.kernel_) "
   ]
  },
  {
   "cell_type": "markdown",
   "metadata": {},
   "source": [
    "# plot the class 1 probability with test data together"
   ]
  },
  {
   "cell_type": "code",
   "execution_count": null,
   "metadata": {},
   "outputs": [],
   "source": [
    "sns.set_style(\"whitegrid\")\n",
    "plt.rcParams.update({'font.size': 25})\n",
    "plt.rcParams.update({'legend.fontsize': 25})\n",
    "plt.rcParams['font.weight'] = 'bold'\n",
    "\n",
    "fig = plt.figure(figsize=(20, 10))\n",
    "ax = fig.add_subplot(111)\n",
    "\n",
    "plt.scatter(range(1,ytest.shape[0]+1) , ytest, s=50,color='g', marker=(5, 0), label=\"Test data\")\n",
    "plt.scatter(range(1,ytest.shape[0]+1),gp_opt.predict_proba(xtest)[:, 1],s=50,color='b', marker=(5, 0),label=\"Class 1 probability\")\n",
    "plt.plot([1, ytest.shape[0]],[0.5, 0.5],c=\"r\")\n",
    "\n",
    "plt.ylim(-0.2, 1.2)\n",
    "plt.legend(loc=\"best\")\n",
    "plt.xticks([])\n",
    "plt.show()"
   ]
  },
  {
   "cell_type": "markdown",
   "metadata": {},
   "source": [
    "# apply PCA to the coefficients on the tangent space of the sphere (TPCA) "
   ]
  },
  {
   "cell_type": "code",
   "execution_count": null,
   "metadata": {},
   "outputs": [],
   "source": [
    "from sklearn.decomposition import PCA\n",
    "pca = PCA(n_components=1)\n",
    "pca.fit(x)\n",
    "z=pca.transform(x)\n",
    "print(z.shape)\n",
    "print(pca.explained_variance_ratio_)\n",
    "print(sum(pca.explained_variance_ratio_))"
   ]
  },
  {
   "cell_type": "markdown",
   "metadata": {},
   "source": [
    "# plot projected coefficients into one direction"
   ]
  },
  {
   "cell_type": "code",
   "execution_count": null,
   "metadata": {},
   "outputs": [],
   "source": [
    "sns.set_style(\"whitegrid\")\n",
    "plt.rcParams.update({'font.size': 25})\n",
    "plt.rcParams.update({'legend.fontsize': 25})\n",
    "plt.rcParams['font.weight'] = 'bold'\n",
    "\n",
    "fig = plt.figure(figsize=(20, 10))\n",
    "ax = fig.add_subplot(111)\n",
    "\n",
    "plt.scatter( z[0:p1.shape[0]], [0] * z[0:p1.shape[0]].shape[0],s=60,color='b', marker=(5, 0))\n",
    "plt.scatter( z[p1.shape[0]:np.int(n)], [0] * z[p1.shape[0]:np.int(n)].shape[0],s=30,color='r', marker=(3, 0))\n",
    "\n",
    "plt.xlabel(\"one direction\")\n",
    "plt.yticks([])\n",
    "\n",
    "plt.show()"
   ]
  },
  {
   "cell_type": "code",
   "execution_count": null,
   "metadata": {},
   "outputs": [],
   "source": []
  }
 ],
 "metadata": {
  "kernelspec": {
   "display_name": "Python 3",
   "language": "python",
   "name": "python3"
  },
  "language_info": {
   "codemirror_mode": {
    "name": "ipython",
    "version": 3
   },
   "file_extension": ".py",
   "mimetype": "text/x-python",
   "name": "python",
   "nbconvert_exporter": "python",
   "pygments_lexer": "ipython3",
   "version": "3.7.3"
  }
 },
 "nbformat": 4,
 "nbformat_minor": 2
}
